{
 "cells": [
  {
   "cell_type": "code",
   "execution_count": 1,
   "metadata": {},
   "outputs": [],
   "source": [
    "# Import necessary libraries\n",
    "import pandas as pd\n",
    "import numpy as np\n",
    "from sklearn.linear_model import LinearRegression, Ridge, Lasso, ElasticNet\n",
    "from sklearn.model_selection import train_test_split, cross_val_score\n",
    "from sklearn.preprocessing import StandardScaler, OneHotEncoder\n",
    "from sklearn.compose import make_column_transformer\n",
    "from sklearn.pipeline import make_pipeline\n",
    "from category_encoders.target_encoder import TargetEncoder\n",
    "\n",
    "import warnings\n",
    "\n",
    "warnings.filterwarnings(\"ignore\", category=UserWarning)"
   ]
  },
  {
   "cell_type": "code",
   "execution_count": 2,
   "metadata": {},
   "outputs": [],
   "source": [
    "# Load the dataset\n",
    "train_data = pd.read_csv(\"train.csv\")\n",
    "train_data = train_data.drop(\"Id\", axis=1)"
   ]
  },
  {
   "cell_type": "code",
   "execution_count": 3,
   "metadata": {},
   "outputs": [
    {
     "name": "stdout",
     "output_type": "stream",
     "text": [
      "Missing Values:\n",
      "MSSubClass         0\n",
      "MSZoning           0\n",
      "LotFrontage      259\n",
      "LotArea            0\n",
      "Street             0\n",
      "                ... \n",
      "MoSold             0\n",
      "YrSold             0\n",
      "SaleType           0\n",
      "SaleCondition      0\n",
      "SalePrice          0\n",
      "Length: 80, dtype: int64\n"
     ]
    }
   ],
   "source": [
    "# Check for missing values\n",
    "print(\"Missing Values:\")\n",
    "print(train_data.isnull().sum())"
   ]
  },
  {
   "cell_type": "code",
   "execution_count": 4,
   "metadata": {},
   "outputs": [
    {
     "name": "stdout",
     "output_type": "stream",
     "text": [
      "\n",
      "Dataset Preview:\n",
      "   MSSubClass MSZoning  LotFrontage  LotArea Street Alley LotShape  \\\n",
      "0          60       RL         65.0     8450   Pave   NaN      Reg   \n",
      "1          20       RL         80.0     9600   Pave   NaN      Reg   \n",
      "2          60       RL         68.0    11250   Pave   NaN      IR1   \n",
      "3          70       RL         60.0     9550   Pave   NaN      IR1   \n",
      "4          60       RL         84.0    14260   Pave   NaN      IR1   \n",
      "\n",
      "  LandContour Utilities LotConfig  ... PoolArea PoolQC Fence MiscFeature  \\\n",
      "0         Lvl    AllPub    Inside  ...        0    NaN   NaN         NaN   \n",
      "1         Lvl    AllPub       FR2  ...        0    NaN   NaN         NaN   \n",
      "2         Lvl    AllPub    Inside  ...        0    NaN   NaN         NaN   \n",
      "3         Lvl    AllPub    Corner  ...        0    NaN   NaN         NaN   \n",
      "4         Lvl    AllPub       FR2  ...        0    NaN   NaN         NaN   \n",
      "\n",
      "  MiscVal MoSold  YrSold  SaleType  SaleCondition  SalePrice  \n",
      "0       0      2    2008        WD         Normal     208500  \n",
      "1       0      5    2007        WD         Normal     181500  \n",
      "2       0      9    2008        WD         Normal     223500  \n",
      "3       0      2    2006        WD        Abnorml     140000  \n",
      "4       0     12    2008        WD         Normal     250000  \n",
      "\n",
      "[5 rows x 80 columns]\n"
     ]
    }
   ],
   "source": [
    "# Explore the dataset\n",
    "print(\"\\nDataset Preview:\")\n",
    "print(train_data.head())"
   ]
  },
  {
   "cell_type": "code",
   "execution_count": 5,
   "metadata": {},
   "outputs": [],
   "source": [
    "# Define feature groups\n",
    "categorical_features = [\n",
    "    \"LotShape\",\n",
    "    \"Street\",\n",
    "    \"ExterCond\",\n",
    "    \"OverallCond\",\n",
    "    \"OverallQual\",\n",
    "    \"Condition1\",\n",
    "    \"Condition2\",\n",
    "    \"Functional\",\n",
    "    \"MSZoning\",\n",
    "    \"FireplaceQu\",\n",
    "]\n",
    "target_encoded_features = [\"Neighborhood\"]\n",
    "numerical_features = [\n",
    "    \"BedroomAbvGr\",\n",
    "    \"BsmtFinSF1\",\n",
    "    \"BsmtFullBath\",\n",
    "    \"EnclosedPorch\",\n",
    "    \"GarageArea\",\n",
    "    \"LotArea\",\n",
    "    \"1stFlrSF\",\n",
    "    \"2ndFlrSF\",\n",
    "    \"TotalBsmtSF\",\n",
    "]"
   ]
  },
  {
   "cell_type": "code",
   "execution_count": 6,
   "metadata": {},
   "outputs": [],
   "source": [
    "mixed_features_df = train_data[\n",
    "    categorical_features + target_encoded_features + numerical_features\n",
    "]\n",
    "\n",
    "target = np.log(train_data[\"SalePrice\"])"
   ]
  },
  {
   "cell_type": "code",
   "execution_count": 7,
   "metadata": {},
   "outputs": [],
   "source": [
    "# Split the data\n",
    "X_train, X_test, y_train, y_test = train_test_split(\n",
    "    mixed_features_df, target, test_size=0.2, random_state=0\n",
    ")"
   ]
  },
  {
   "cell_type": "code",
   "execution_count": 8,
   "metadata": {},
   "outputs": [],
   "source": [
    "# Apply ColumnTransformer to the entire dataset\n",
    "preprocessor = make_column_transformer(\n",
    "    (StandardScaler(), numerical_features),\n",
    "    (OneHotEncoder(handle_unknown=\"ignore\"), categorical_features),\n",
    "    (TargetEncoder(handle_unknown=\"value\"), target_encoded_features),\n",
    "    remainder=\"passthrough\",\n",
    ")"
   ]
  },
  {
   "cell_type": "code",
   "execution_count": 9,
   "metadata": {},
   "outputs": [],
   "source": [
    "# Try different regression models and find the best one\n",
    "best_model = None\n",
    "best_score = float(\"-inf\")\n",
    "models = [\n",
    "    (\"Linear Regression\", LinearRegression()),\n",
    "    (\"Ridge Regression\", Ridge(alpha=3.562)),\n",
    "    (\"Lasso Regression\", Lasso(alpha=0.000672)),\n",
    "    (\"ElasticNet Regression\", ElasticNet(alpha=0.002807, l1_ratio=0.1)),\n",
    "]"
   ]
  },
  {
   "cell_type": "code",
   "execution_count": 18,
   "metadata": {},
   "outputs": [
    {
     "name": "stdout",
     "output_type": "stream",
     "text": [
      "Linear Regression Scores: [0.9167107  0.89893936 0.7872592  0.88105245 0.88733867 0.85202228\n",
      " 0.8803758  0.927493   0.89955813 0.90938007]\n",
      "Linear Regression Mean Score: 0.8840129656120099\n",
      "Ridge Regression Scores: [0.91568227 0.89859086 0.79240329 0.88003308 0.88815803 0.85852922\n",
      " 0.87608051 0.91722993 0.90157594 0.91017817]\n",
      "Ridge Regression Mean Score: 0.8838461294908881\n",
      "Lasso Regression Scores: [0.91888529 0.89925682 0.79537391 0.87226263 0.88746252 0.85693878\n",
      " 0.87215593 0.91154178 0.90717692 0.90532385]\n",
      "Lasso Regression Mean Score: 0.8826378434012362\n",
      "ElasticNet Regression Scores: [0.91559657 0.89898349 0.7946676  0.87733793 0.88640488 0.85805726\n",
      " 0.87446389 0.91322742 0.90299924 0.90644796]\n",
      "ElasticNet Regression Mean Score: 0.8828186250865662\n",
      "\n",
      "Best Model: LinearRegression with Mean Score: 0.8840129656120099\n"
     ]
    }
   ],
   "source": [
    "for name, model in models:\n",
    "    pipe = make_pipeline(preprocessor, model)\n",
    "    scores = cross_val_score(pipe, X_train, y_train, cv=10, error_score=\"raise\")\n",
    "    mean_score = np.mean(scores)\n",
    "    print(f\"{name} Scores:\", scores)\n",
    "    print(f\"{name} Mean Score:\", mean_score)\n",
    "\n",
    "    if float(mean_score) > best_score:\n",
    "        best_score = float(mean_score)\n",
    "        best_model = model\n",
    "\n",
    "print(f\"\\nBest Model: {best_model.__class__.__name__} with Mean Score: {best_score}\")"
   ]
  },
  {
   "cell_type": "code",
   "execution_count": 11,
   "metadata": {},
   "outputs": [
    {
     "data": {
      "text/html": [
       "<style>#sk-container-id-1 {color: black;}#sk-container-id-1 pre{padding: 0;}#sk-container-id-1 div.sk-toggleable {background-color: white;}#sk-container-id-1 label.sk-toggleable__label {cursor: pointer;display: block;width: 100%;margin-bottom: 0;padding: 0.3em;box-sizing: border-box;text-align: center;}#sk-container-id-1 label.sk-toggleable__label-arrow:before {content: \"▸\";float: left;margin-right: 0.25em;color: #696969;}#sk-container-id-1 label.sk-toggleable__label-arrow:hover:before {color: black;}#sk-container-id-1 div.sk-estimator:hover label.sk-toggleable__label-arrow:before {color: black;}#sk-container-id-1 div.sk-toggleable__content {max-height: 0;max-width: 0;overflow: hidden;text-align: left;background-color: #f0f8ff;}#sk-container-id-1 div.sk-toggleable__content pre {margin: 0.2em;color: black;border-radius: 0.25em;background-color: #f0f8ff;}#sk-container-id-1 input.sk-toggleable__control:checked~div.sk-toggleable__content {max-height: 200px;max-width: 100%;overflow: auto;}#sk-container-id-1 input.sk-toggleable__control:checked~label.sk-toggleable__label-arrow:before {content: \"▾\";}#sk-container-id-1 div.sk-estimator input.sk-toggleable__control:checked~label.sk-toggleable__label {background-color: #d4ebff;}#sk-container-id-1 div.sk-label input.sk-toggleable__control:checked~label.sk-toggleable__label {background-color: #d4ebff;}#sk-container-id-1 input.sk-hidden--visually {border: 0;clip: rect(1px 1px 1px 1px);clip: rect(1px, 1px, 1px, 1px);height: 1px;margin: -1px;overflow: hidden;padding: 0;position: absolute;width: 1px;}#sk-container-id-1 div.sk-estimator {font-family: monospace;background-color: #f0f8ff;border: 1px dotted black;border-radius: 0.25em;box-sizing: border-box;margin-bottom: 0.5em;}#sk-container-id-1 div.sk-estimator:hover {background-color: #d4ebff;}#sk-container-id-1 div.sk-parallel-item::after {content: \"\";width: 100%;border-bottom: 1px solid gray;flex-grow: 1;}#sk-container-id-1 div.sk-label:hover label.sk-toggleable__label {background-color: #d4ebff;}#sk-container-id-1 div.sk-serial::before {content: \"\";position: absolute;border-left: 1px solid gray;box-sizing: border-box;top: 0;bottom: 0;left: 50%;z-index: 0;}#sk-container-id-1 div.sk-serial {display: flex;flex-direction: column;align-items: center;background-color: white;padding-right: 0.2em;padding-left: 0.2em;position: relative;}#sk-container-id-1 div.sk-item {position: relative;z-index: 1;}#sk-container-id-1 div.sk-parallel {display: flex;align-items: stretch;justify-content: center;background-color: white;position: relative;}#sk-container-id-1 div.sk-item::before, #sk-container-id-1 div.sk-parallel-item::before {content: \"\";position: absolute;border-left: 1px solid gray;box-sizing: border-box;top: 0;bottom: 0;left: 50%;z-index: -1;}#sk-container-id-1 div.sk-parallel-item {display: flex;flex-direction: column;z-index: 1;position: relative;background-color: white;}#sk-container-id-1 div.sk-parallel-item:first-child::after {align-self: flex-end;width: 50%;}#sk-container-id-1 div.sk-parallel-item:last-child::after {align-self: flex-start;width: 50%;}#sk-container-id-1 div.sk-parallel-item:only-child::after {width: 0;}#sk-container-id-1 div.sk-dashed-wrapped {border: 1px dashed gray;margin: 0 0.4em 0.5em 0.4em;box-sizing: border-box;padding-bottom: 0.4em;background-color: white;}#sk-container-id-1 div.sk-label label {font-family: monospace;font-weight: bold;display: inline-block;line-height: 1.2em;}#sk-container-id-1 div.sk-label-container {text-align: center;}#sk-container-id-1 div.sk-container {/* jupyter's `normalize.less` sets `[hidden] { display: none; }` but bootstrap.min.css set `[hidden] { display: none !important; }` so we also need the `!important` here to be able to override the default hidden behavior on the sphinx rendered scikit-learn.org. See: https://github.com/scikit-learn/scikit-learn/issues/21755 */display: inline-block !important;position: relative;}#sk-container-id-1 div.sk-text-repr-fallback {display: none;}</style><div id=\"sk-container-id-1\" class=\"sk-top-container\"><div class=\"sk-text-repr-fallback\"><pre>Pipeline(steps=[(&#x27;columntransformer&#x27;,\n",
       "                 ColumnTransformer(remainder=&#x27;passthrough&#x27;,\n",
       "                                   transformers=[(&#x27;standardscaler&#x27;,\n",
       "                                                  StandardScaler(),\n",
       "                                                  [&#x27;BedroomAbvGr&#x27;, &#x27;BsmtFinSF1&#x27;,\n",
       "                                                   &#x27;BsmtFullBath&#x27;,\n",
       "                                                   &#x27;EnclosedPorch&#x27;,\n",
       "                                                   &#x27;GarageArea&#x27;, &#x27;LotArea&#x27;,\n",
       "                                                   &#x27;1stFlrSF&#x27;, &#x27;2ndFlrSF&#x27;,\n",
       "                                                   &#x27;TotalBsmtSF&#x27;]),\n",
       "                                                 (&#x27;onehotencoder&#x27;,\n",
       "                                                  OneHotEncoder(handle_unknown=&#x27;ignore&#x27;),\n",
       "                                                  [&#x27;LotShape&#x27;, &#x27;Street&#x27;,\n",
       "                                                   &#x27;ExterCond&#x27;, &#x27;OverallCond&#x27;,\n",
       "                                                   &#x27;OverallQual&#x27;, &#x27;Condition1&#x27;,\n",
       "                                                   &#x27;Condition2&#x27;, &#x27;Functional&#x27;,\n",
       "                                                   &#x27;MSZoning&#x27;, &#x27;FireplaceQu&#x27;]),\n",
       "                                                 (&#x27;targetencoder&#x27;,\n",
       "                                                  TargetEncoder(),\n",
       "                                                  [&#x27;Neighborhood&#x27;])])),\n",
       "                (&#x27;linearregression&#x27;, LinearRegression())])</pre><b>In a Jupyter environment, please rerun this cell to show the HTML representation or trust the notebook. <br />On GitHub, the HTML representation is unable to render, please try loading this page with nbviewer.org.</b></div><div class=\"sk-container\" hidden><div class=\"sk-item sk-dashed-wrapped\"><div class=\"sk-label-container\"><div class=\"sk-label sk-toggleable\"><input class=\"sk-toggleable__control sk-hidden--visually\" id=\"sk-estimator-id-1\" type=\"checkbox\" ><label for=\"sk-estimator-id-1\" class=\"sk-toggleable__label sk-toggleable__label-arrow\">Pipeline</label><div class=\"sk-toggleable__content\"><pre>Pipeline(steps=[(&#x27;columntransformer&#x27;,\n",
       "                 ColumnTransformer(remainder=&#x27;passthrough&#x27;,\n",
       "                                   transformers=[(&#x27;standardscaler&#x27;,\n",
       "                                                  StandardScaler(),\n",
       "                                                  [&#x27;BedroomAbvGr&#x27;, &#x27;BsmtFinSF1&#x27;,\n",
       "                                                   &#x27;BsmtFullBath&#x27;,\n",
       "                                                   &#x27;EnclosedPorch&#x27;,\n",
       "                                                   &#x27;GarageArea&#x27;, &#x27;LotArea&#x27;,\n",
       "                                                   &#x27;1stFlrSF&#x27;, &#x27;2ndFlrSF&#x27;,\n",
       "                                                   &#x27;TotalBsmtSF&#x27;]),\n",
       "                                                 (&#x27;onehotencoder&#x27;,\n",
       "                                                  OneHotEncoder(handle_unknown=&#x27;ignore&#x27;),\n",
       "                                                  [&#x27;LotShape&#x27;, &#x27;Street&#x27;,\n",
       "                                                   &#x27;ExterCond&#x27;, &#x27;OverallCond&#x27;,\n",
       "                                                   &#x27;OverallQual&#x27;, &#x27;Condition1&#x27;,\n",
       "                                                   &#x27;Condition2&#x27;, &#x27;Functional&#x27;,\n",
       "                                                   &#x27;MSZoning&#x27;, &#x27;FireplaceQu&#x27;]),\n",
       "                                                 (&#x27;targetencoder&#x27;,\n",
       "                                                  TargetEncoder(),\n",
       "                                                  [&#x27;Neighborhood&#x27;])])),\n",
       "                (&#x27;linearregression&#x27;, LinearRegression())])</pre></div></div></div><div class=\"sk-serial\"><div class=\"sk-item sk-dashed-wrapped\"><div class=\"sk-label-container\"><div class=\"sk-label sk-toggleable\"><input class=\"sk-toggleable__control sk-hidden--visually\" id=\"sk-estimator-id-2\" type=\"checkbox\" ><label for=\"sk-estimator-id-2\" class=\"sk-toggleable__label sk-toggleable__label-arrow\">columntransformer: ColumnTransformer</label><div class=\"sk-toggleable__content\"><pre>ColumnTransformer(remainder=&#x27;passthrough&#x27;,\n",
       "                  transformers=[(&#x27;standardscaler&#x27;, StandardScaler(),\n",
       "                                 [&#x27;BedroomAbvGr&#x27;, &#x27;BsmtFinSF1&#x27;, &#x27;BsmtFullBath&#x27;,\n",
       "                                  &#x27;EnclosedPorch&#x27;, &#x27;GarageArea&#x27;, &#x27;LotArea&#x27;,\n",
       "                                  &#x27;1stFlrSF&#x27;, &#x27;2ndFlrSF&#x27;, &#x27;TotalBsmtSF&#x27;]),\n",
       "                                (&#x27;onehotencoder&#x27;,\n",
       "                                 OneHotEncoder(handle_unknown=&#x27;ignore&#x27;),\n",
       "                                 [&#x27;LotShape&#x27;, &#x27;Street&#x27;, &#x27;ExterCond&#x27;,\n",
       "                                  &#x27;OverallCond&#x27;, &#x27;OverallQual&#x27;, &#x27;Condition1&#x27;,\n",
       "                                  &#x27;Condition2&#x27;, &#x27;Functional&#x27;, &#x27;MSZoning&#x27;,\n",
       "                                  &#x27;FireplaceQu&#x27;]),\n",
       "                                (&#x27;targetencoder&#x27;, TargetEncoder(),\n",
       "                                 [&#x27;Neighborhood&#x27;])])</pre></div></div></div><div class=\"sk-parallel\"><div class=\"sk-parallel-item\"><div class=\"sk-item\"><div class=\"sk-label-container\"><div class=\"sk-label sk-toggleable\"><input class=\"sk-toggleable__control sk-hidden--visually\" id=\"sk-estimator-id-3\" type=\"checkbox\" ><label for=\"sk-estimator-id-3\" class=\"sk-toggleable__label sk-toggleable__label-arrow\">standardscaler</label><div class=\"sk-toggleable__content\"><pre>[&#x27;BedroomAbvGr&#x27;, &#x27;BsmtFinSF1&#x27;, &#x27;BsmtFullBath&#x27;, &#x27;EnclosedPorch&#x27;, &#x27;GarageArea&#x27;, &#x27;LotArea&#x27;, &#x27;1stFlrSF&#x27;, &#x27;2ndFlrSF&#x27;, &#x27;TotalBsmtSF&#x27;]</pre></div></div></div><div class=\"sk-serial\"><div class=\"sk-item\"><div class=\"sk-estimator sk-toggleable\"><input class=\"sk-toggleable__control sk-hidden--visually\" id=\"sk-estimator-id-4\" type=\"checkbox\" ><label for=\"sk-estimator-id-4\" class=\"sk-toggleable__label sk-toggleable__label-arrow\">StandardScaler</label><div class=\"sk-toggleable__content\"><pre>StandardScaler()</pre></div></div></div></div></div></div><div class=\"sk-parallel-item\"><div class=\"sk-item\"><div class=\"sk-label-container\"><div class=\"sk-label sk-toggleable\"><input class=\"sk-toggleable__control sk-hidden--visually\" id=\"sk-estimator-id-5\" type=\"checkbox\" ><label for=\"sk-estimator-id-5\" class=\"sk-toggleable__label sk-toggleable__label-arrow\">onehotencoder</label><div class=\"sk-toggleable__content\"><pre>[&#x27;LotShape&#x27;, &#x27;Street&#x27;, &#x27;ExterCond&#x27;, &#x27;OverallCond&#x27;, &#x27;OverallQual&#x27;, &#x27;Condition1&#x27;, &#x27;Condition2&#x27;, &#x27;Functional&#x27;, &#x27;MSZoning&#x27;, &#x27;FireplaceQu&#x27;]</pre></div></div></div><div class=\"sk-serial\"><div class=\"sk-item\"><div class=\"sk-estimator sk-toggleable\"><input class=\"sk-toggleable__control sk-hidden--visually\" id=\"sk-estimator-id-6\" type=\"checkbox\" ><label for=\"sk-estimator-id-6\" class=\"sk-toggleable__label sk-toggleable__label-arrow\">OneHotEncoder</label><div class=\"sk-toggleable__content\"><pre>OneHotEncoder(handle_unknown=&#x27;ignore&#x27;)</pre></div></div></div></div></div></div><div class=\"sk-parallel-item\"><div class=\"sk-item\"><div class=\"sk-label-container\"><div class=\"sk-label sk-toggleable\"><input class=\"sk-toggleable__control sk-hidden--visually\" id=\"sk-estimator-id-7\" type=\"checkbox\" ><label for=\"sk-estimator-id-7\" class=\"sk-toggleable__label sk-toggleable__label-arrow\">targetencoder</label><div class=\"sk-toggleable__content\"><pre>[&#x27;Neighborhood&#x27;]</pre></div></div></div><div class=\"sk-serial\"><div class=\"sk-item\"><div class=\"sk-estimator sk-toggleable\"><input class=\"sk-toggleable__control sk-hidden--visually\" id=\"sk-estimator-id-8\" type=\"checkbox\" ><label for=\"sk-estimator-id-8\" class=\"sk-toggleable__label sk-toggleable__label-arrow\">TargetEncoder</label><div class=\"sk-toggleable__content\"><pre>TargetEncoder()</pre></div></div></div></div></div></div><div class=\"sk-parallel-item\"><div class=\"sk-item\"><div class=\"sk-label-container\"><div class=\"sk-label sk-toggleable\"><input class=\"sk-toggleable__control sk-hidden--visually\" id=\"sk-estimator-id-9\" type=\"checkbox\" ><label for=\"sk-estimator-id-9\" class=\"sk-toggleable__label sk-toggleable__label-arrow\">remainder</label><div class=\"sk-toggleable__content\"><pre>[]</pre></div></div></div><div class=\"sk-serial\"><div class=\"sk-item\"><div class=\"sk-estimator sk-toggleable\"><input class=\"sk-toggleable__control sk-hidden--visually\" id=\"sk-estimator-id-10\" type=\"checkbox\" ><label for=\"sk-estimator-id-10\" class=\"sk-toggleable__label sk-toggleable__label-arrow\">passthrough</label><div class=\"sk-toggleable__content\"><pre>passthrough</pre></div></div></div></div></div></div></div></div><div class=\"sk-item\"><div class=\"sk-estimator sk-toggleable\"><input class=\"sk-toggleable__control sk-hidden--visually\" id=\"sk-estimator-id-11\" type=\"checkbox\" ><label for=\"sk-estimator-id-11\" class=\"sk-toggleable__label sk-toggleable__label-arrow\">LinearRegression</label><div class=\"sk-toggleable__content\"><pre>LinearRegression()</pre></div></div></div></div></div></div></div>"
      ],
      "text/plain": [
       "Pipeline(steps=[('columntransformer',\n",
       "                 ColumnTransformer(remainder='passthrough',\n",
       "                                   transformers=[('standardscaler',\n",
       "                                                  StandardScaler(),\n",
       "                                                  ['BedroomAbvGr', 'BsmtFinSF1',\n",
       "                                                   'BsmtFullBath',\n",
       "                                                   'EnclosedPorch',\n",
       "                                                   'GarageArea', 'LotArea',\n",
       "                                                   '1stFlrSF', '2ndFlrSF',\n",
       "                                                   'TotalBsmtSF']),\n",
       "                                                 ('onehotencoder',\n",
       "                                                  OneHotEncoder(handle_unknown='ignore'),\n",
       "                                                  ['LotShape', 'Street',\n",
       "                                                   'ExterCond', 'OverallCond',\n",
       "                                                   'OverallQual', 'Condition1',\n",
       "                                                   'Condition2', 'Functional',\n",
       "                                                   'MSZoning', 'FireplaceQu']),\n",
       "                                                 ('targetencoder',\n",
       "                                                  TargetEncoder(),\n",
       "                                                  ['Neighborhood'])])),\n",
       "                ('linearregression', LinearRegression())])"
      ]
     },
     "execution_count": 11,
     "metadata": {},
     "output_type": "execute_result"
    }
   ],
   "source": [
    "# Fit the best model on the entire training dataset after preprocessing\n",
    "best_model_pipe = make_pipeline(preprocessor, best_model)\n",
    "best_model_pipe.fit(X_train, y_train)"
   ]
  },
  {
   "cell_type": "code",
   "execution_count": null,
   "metadata": {},
   "outputs": [],
   "source": []
  },
  {
   "cell_type": "code",
   "execution_count": 12,
   "metadata": {},
   "outputs": [],
   "source": [
    "# Use the best model for prediction\n",
    "user_input_features = {\n",
    "    \"LotShape\": \"Reg\",\n",
    "    \"Street\": \"Pave\",\n",
    "    \"ExterCond\": \"TA\",\n",
    "    \"OverallCond\": 6,\n",
    "    \"OverallQual\": 6,\n",
    "    \"Condition1\": \"Norm\",\n",
    "    \"Condition2\": \"Norm\",\n",
    "    \"Functional\": \"Mod\",\n",
    "    \"MSZoning\": \"RH\",\n",
    "    \"FireplaceQu\": \"TA\",\n",
    "    \"Neighborhood\": \"Blueste\",\n",
    "    \"BedroomAbvGr\": 2,\n",
    "    \"BsmtFinSF1\": 468,\n",
    "    \"BsmtFullBath\": 1,\n",
    "    \"EnclosedPorch\": 0,\n",
    "    \"GarageArea\": 730,\n",
    "    \"LotArea\": 11622,\n",
    "    \"1stFlrSF\": 896,\n",
    "    \"2ndFlrSF\": 0,\n",
    "    \"TotalBsmtSF\": 882,\n",
    "}\n",
    "\n",
    "#Collect input from the user for each feature\n",
    "# for feature in mixed_features_df.columns:\n",
    "#     user_input = input(f\"Enter value for {feature}: \")\n",
    "#     user_input_features[feature] = user_input"
   ]
  },
  {
   "cell_type": "code",
   "execution_count": 13,
   "metadata": {},
   "outputs": [
    {
     "name": "stdout",
     "output_type": "stream",
     "text": [
      "\n",
      "User Input:\n",
      "LotShape: Reg\n",
      "Street: Pave\n",
      "ExterCond: TA\n",
      "OverallCond: 6\n",
      "OverallQual: 6\n",
      "Condition1: Norm\n",
      "Condition2: Norm\n",
      "Functional: Mod\n",
      "MSZoning: RH\n",
      "FireplaceQu: TA\n",
      "Neighborhood: Blueste\n",
      "BedroomAbvGr: 2\n",
      "BsmtFinSF1: 468\n",
      "BsmtFullBath: 1\n",
      "EnclosedPorch: 0\n",
      "GarageArea: 730\n",
      "LotArea: 11622\n",
      "1stFlrSF: 896\n",
      "2ndFlrSF: 0\n",
      "TotalBsmtSF: 882\n"
     ]
    }
   ],
   "source": [
    "print(\"\\nUser Input:\")\n",
    "for feature, value in user_input_features.items():\n",
    "    print(f\"{feature}: {value}\")"
   ]
  },
  {
   "cell_type": "code",
   "execution_count": 14,
   "metadata": {},
   "outputs": [],
   "source": [
    "# Create a DataFrame with user input\n",
    "user_input_df = pd.DataFrame([user_input_features])"
   ]
  },
  {
   "cell_type": "code",
   "execution_count": 15,
   "metadata": {},
   "outputs": [
    {
     "data": {
      "text/html": [
       "<div>\n",
       "<style scoped>\n",
       "    .dataframe tbody tr th:only-of-type {\n",
       "        vertical-align: middle;\n",
       "    }\n",
       "\n",
       "    .dataframe tbody tr th {\n",
       "        vertical-align: top;\n",
       "    }\n",
       "\n",
       "    .dataframe thead th {\n",
       "        text-align: right;\n",
       "    }\n",
       "</style>\n",
       "<table border=\"1\" class=\"dataframe\">\n",
       "  <thead>\n",
       "    <tr style=\"text-align: right;\">\n",
       "      <th></th>\n",
       "      <th>LotShape</th>\n",
       "      <th>Street</th>\n",
       "      <th>ExterCond</th>\n",
       "      <th>OverallCond</th>\n",
       "      <th>OverallQual</th>\n",
       "      <th>Condition1</th>\n",
       "      <th>Condition2</th>\n",
       "      <th>Functional</th>\n",
       "      <th>MSZoning</th>\n",
       "      <th>FireplaceQu</th>\n",
       "      <th>Neighborhood</th>\n",
       "      <th>BedroomAbvGr</th>\n",
       "      <th>BsmtFinSF1</th>\n",
       "      <th>BsmtFullBath</th>\n",
       "      <th>EnclosedPorch</th>\n",
       "      <th>GarageArea</th>\n",
       "      <th>LotArea</th>\n",
       "      <th>1stFlrSF</th>\n",
       "      <th>2ndFlrSF</th>\n",
       "      <th>TotalBsmtSF</th>\n",
       "    </tr>\n",
       "  </thead>\n",
       "  <tbody>\n",
       "    <tr>\n",
       "      <th>0</th>\n",
       "      <td>Reg</td>\n",
       "      <td>Pave</td>\n",
       "      <td>TA</td>\n",
       "      <td>6</td>\n",
       "      <td>6</td>\n",
       "      <td>Norm</td>\n",
       "      <td>Norm</td>\n",
       "      <td>Mod</td>\n",
       "      <td>RH</td>\n",
       "      <td>TA</td>\n",
       "      <td>Blueste</td>\n",
       "      <td>2</td>\n",
       "      <td>468</td>\n",
       "      <td>1</td>\n",
       "      <td>0</td>\n",
       "      <td>730</td>\n",
       "      <td>11622</td>\n",
       "      <td>896</td>\n",
       "      <td>0</td>\n",
       "      <td>882</td>\n",
       "    </tr>\n",
       "  </tbody>\n",
       "</table>\n",
       "</div>"
      ],
      "text/plain": [
       "  LotShape Street ExterCond  OverallCond  OverallQual Condition1 Condition2  \\\n",
       "0      Reg   Pave        TA            6            6       Norm       Norm   \n",
       "\n",
       "  Functional MSZoning FireplaceQu Neighborhood  BedroomAbvGr  BsmtFinSF1  \\\n",
       "0        Mod       RH          TA      Blueste             2         468   \n",
       "\n",
       "   BsmtFullBath  EnclosedPorch  GarageArea  LotArea  1stFlrSF  2ndFlrSF  \\\n",
       "0             1              0         730    11622       896         0   \n",
       "\n",
       "   TotalBsmtSF  \n",
       "0          882  "
      ]
     },
     "execution_count": 15,
     "metadata": {},
     "output_type": "execute_result"
    }
   ],
   "source": [
    "user_input_df"
   ]
  },
  {
   "cell_type": "code",
   "execution_count": 16,
   "metadata": {},
   "outputs": [],
   "source": [
    "# Make predictions using the best model\n",
    "predicted_log_price = best_model_pipe.predict(user_input_df)\n",
    "\n",
    "# Convert the predicted log price back to the original scale\n",
    "predicted_price = np.exp(predicted_log_price)"
   ]
  },
  {
   "cell_type": "code",
   "execution_count": 17,
   "metadata": {},
   "outputs": [
    {
     "name": "stdout",
     "output_type": "stream",
     "text": [
      "\n",
      "Predicted House Price: $126,980.04\n"
     ]
    }
   ],
   "source": [
    "print(f\"\\nPredicted House Price: ${predicted_price[0]:,.2f}\")"
   ]
  }
 ],
 "metadata": {
  "kernelspec": {
   "display_name": "Python 3",
   "language": "python",
   "name": "python3"
  },
  "language_info": {
   "codemirror_mode": {
    "name": "ipython",
    "version": 3
   },
   "file_extension": ".py",
   "mimetype": "text/x-python",
   "name": "python",
   "nbconvert_exporter": "python",
   "pygments_lexer": "ipython3",
   "version": "3.11.4"
  }
 },
 "nbformat": 4,
 "nbformat_minor": 2
}
